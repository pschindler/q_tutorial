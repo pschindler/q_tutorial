{
 "metadata": {
  "kernelspec": {
   "display_name": "Python 3",
   "language": "python",
   "name": "python3"
  },
  "language_info": {
   "codemirror_mode": {
    "name": "ipython",
    "version": 3
   },
   "file_extension": ".py",
   "mimetype": "text/x-python",
   "name": "python",
   "nbconvert_exporter": "python",
   "pygments_lexer": "ipython3",
   "version": "3.6.2"
  },
  "name": "",
  "signature": "sha256:dc440e0852c4f9c9c66066942572cc678375edba2ce28e75dc9bc4ef3caba3a0"
 },
 "nbformat": 3,
 "nbformat_minor": 0,
 "worksheets": [
  {
   "cells": [
    {
     "cell_type": "heading",
     "level": 1,
     "metadata": {},
     "source": [
      "QuTiP example: Single-Qubit Dynamics"
     ]
    },
    {
     "cell_type": "markdown",
     "metadata": {},
     "source": [
      "J.R. Johansson and P.D. Nation\n",
      "\n",
      "For more information about QuTiP see [http://qutip.org](http://qutip.org)"
     ]
    },
    {
     "cell_type": "code",
     "collapsed": false,
     "input": [
      "%matplotlib inline"
     ],
     "language": "python",
     "metadata": {},
     "outputs": [],
     "prompt_number": 1
    },
    {
     "cell_type": "code",
     "collapsed": false,
     "input": [
      "import matplotlib.pyplot as plt"
     ],
     "language": "python",
     "metadata": {},
     "outputs": [],
     "prompt_number": 2
    },
    {
     "cell_type": "code",
     "collapsed": false,
     "input": [
      "import numpy as np"
     ],
     "language": "python",
     "metadata": {},
     "outputs": [],
     "prompt_number": 3
    },
    {
     "cell_type": "code",
     "collapsed": false,
     "input": [
      "from qutip import *"
     ],
     "language": "python",
     "metadata": {},
     "outputs": [
      {
       "ename": "ImportError",
       "evalue": "No module named 'qutip'",
       "output_type": "pyerr",
       "traceback": [
        "\u001b[0;31m---------------------------------------------------------------------------\u001b[0m\n\u001b[0;31mImportError\u001b[0m                               Traceback (most recent call last)",
        "\u001b[0;32m<ipython-input-4-674d9281af88>\u001b[0m in \u001b[0;36m<module>\u001b[0;34m()\u001b[0m\n\u001b[0;32m----> 1\u001b[0;31m \u001b[0;32mfrom\u001b[0m \u001b[0mqutip\u001b[0m \u001b[0;32mimport\u001b[0m \u001b[0;34m*\u001b[0m\u001b[0;34m\u001b[0m\u001b[0m\n\u001b[0m",
        "\u001b[0;31mImportError\u001b[0m: No module named 'qutip'"
       ]
      }
     ],
     "prompt_number": 4
    },
    {
     "cell_type": "code",
     "collapsed": false,
     "input": [
      "def qubit_integrate(epsilon, delta, g1, g2, solver):\n",
      "\n",
      "    H = epsilon / 2.0 * sigmaz() + delta / 2.0 * sigmax()\n",
      "        \n",
      "    # collapse operators\n",
      "    c_ops = []\n",
      "\n",
      "    if g1 > 0.0:\n",
      "        c_ops.append(np.sqrt(g1) * sigmam())\n",
      "\n",
      "    if g2 > 0.0:\n",
      "        c_ops.append(np.sqrt(g2) * sigmaz())\n",
      "\n",
      "    e_ops = [sigmax(), sigmay(), sigmaz()]\n",
      "        \n",
      "    if solver == \"me\":\n",
      "        output = mesolve(H, psi0, tlist, c_ops, e_ops)  \n",
      "    elif solver == \"es\":\n",
      "        output = essolve(H, psi0, tlist, c_ops, e_ops)  \n",
      "    elif solver == \"mc\":\n",
      "        ntraj = 250\n",
      "        output = mcsolve(H, psi0, tlist, ntraj, c_ops, [sigmax(), sigmay(), sigmaz()])  \n",
      "    else:\n",
      "        raise ValueError(\"unknown solver\")\n",
      "        \n",
      "    return output.expect[0], output.expect[1], output.expect[2]"
     ],
     "language": "python",
     "metadata": {},
     "outputs": []
    },
    {
     "cell_type": "code",
     "collapsed": false,
     "input": [
      "epsilon = 0.0 * 2 * np.pi   # cavity frequency\n",
      "delta   = 1.0 * 2 * np.pi   # atom frequency\n",
      "g2 = 0.15\n",
      "g1 = 0.0\n",
      "\n",
      "# intial state\n",
      "psi0 = basis(2,0)\n",
      "\n",
      "tlist = np.linspace(0,5,200)\n",
      "\n",
      "# analytics\n",
      "sx_analytic = np.zeros(shape(tlist))\n",
      "sy_analytic = -np.sin(2*np.pi*tlist) * np.exp(-tlist * g2)\n",
      "sz_analytic = np.cos(2*np.pi*tlist) * np.exp(-tlist * g2)"
     ],
     "language": "python",
     "metadata": {},
     "outputs": []
    },
    {
     "cell_type": "code",
     "collapsed": false,
     "input": [
      "sx1, sy1, sz1 = qubit_integrate(epsilon, delta, g1, g2, \"me\")"
     ],
     "language": "python",
     "metadata": {},
     "outputs": []
    },
    {
     "cell_type": "code",
     "collapsed": false,
     "input": [
      "fig, ax = plt.subplots(figsize=(12,6))\n",
      "ax.plot(tlist, np.real(sx1), 'r')\n",
      "ax.plot(tlist, np.real(sy1), 'b')\n",
      "ax.plot(tlist, np.real(sz1), 'g')\n",
      "ax.plot(tlist, sx_analytic, 'r*')\n",
      "ax.plot(tlist, sy_analytic, 'g*')\n",
      "ax.plot(tlist, sz_analytic, 'g*')\n",
      "ax.legend((\"sx\", \"sy\", \"sz\"))\n",
      "ax.set_xlabel('Time')\n",
      "ax.set_ylabel('expectation value');"
     ],
     "language": "python",
     "metadata": {},
     "outputs": []
    },
    {
     "cell_type": "code",
     "collapsed": false,
     "input": [
      "sx2, sy2, sz2 = qubit_integrate(epsilon, delta, 0, 0, \"me\")"
     ],
     "language": "python",
     "metadata": {},
     "outputs": []
    },
    {
     "cell_type": "code",
     "collapsed": false,
     "input": [
      "# analytics\n",
      "sx_analytic = np.zeros(np.shape(tlist))\n",
      "sy_analytic = -np.sin(2*np.pi*tlist)\n",
      "sz_analytic = np.cos(2*np.pi*tlist)"
     ],
     "language": "python",
     "metadata": {},
     "outputs": []
    },
    {
     "cell_type": "code",
     "collapsed": false,
     "input": [
      "fig, ax = plt.subplots(figsize=(12,6))\n",
      "ax.plot(tlist, np.real(sx2), 'r')\n",
      "ax.plot(tlist, np.real(sy2), 'b')\n",
      "ax.plot(tlist, np.real(sz2), 'g')\n",
      "ax.plot(tlist, sx_analytic, 'r*')\n",
      "ax.plot(tlist, sy_analytic, 'g*')\n",
      "ax.plot(tlist, sz_analytic, 'g*')\n",
      "ax.legend((\"sx\", \"sy\", \"sz\"))\n",
      "ax.set_xlabel('Time')\n",
      "ax.set_ylabel('expectation value');"
     ],
     "language": "python",
     "metadata": {},
     "outputs": []
    },
    {
     "cell_type": "heading",
     "level": 2,
     "metadata": {},
     "source": [
      "Bloch sphere"
     ]
    },
    {
     "cell_type": "code",
     "collapsed": false,
     "input": [
      "w     = 1.0 * 2 * np.pi   # qubit angular frequency\n",
      "theta = 0.2 * np.pi       # qubit angle from sigma_z axis (toward sigma_x axis)\n",
      "gamma1 = 0.05      # qubit relaxation rate\n",
      "gamma2 = 0.02      # qubit dephasing rate\n",
      "# initial state\n",
      "a = 1.0\n",
      "psi0 = (a * basis(2,0) + (1-a)*basis(2,1))/(np.sqrt(a**2 + (1-a)**2))\n",
      "tlist = np.linspace(0,15,1000)"
     ],
     "language": "python",
     "metadata": {},
     "outputs": []
    },
    {
     "cell_type": "code",
     "collapsed": false,
     "input": [
      "def qubit_integrate(w, theta, gamma1, gamma2, psi0, tlist):\n",
      "    # Hamiltonian\n",
      "    sx = sigmax()\n",
      "    sy = sigmay()\n",
      "    sz = sigmaz()\n",
      "    sm = sigmam()\n",
      "    H = w * (np.cos(theta) * sz + np.sin(theta) * sx)\n",
      "    # collapse operators\n",
      "    c_op_list = []\n",
      "    n_th = 0.5 # zero temperature\n",
      "    rate = gamma1 * (n_th + 1)\n",
      "    if rate > 0.0:\n",
      "        c_op_list.append(np.sqrt(rate) * sm)\n",
      "    rate = gamma1 * n_th\n",
      "    if rate > 0.0:\n",
      "        c_op_list.append(np.sqrt(rate) * sm.dag())\n",
      "    rate = gamma2\n",
      "    if rate > 0.0:\n",
      "        c_op_list.append(np.sqrt(rate) * sz)\n",
      "    # evolve and calculate expectation values\n",
      "    output = mesolve(H, psi0, tlist, c_op_list, [sx, sy, sz])  \n",
      "    return output.expect[0], output.expect[1], output.expect[2]"
     ],
     "language": "python",
     "metadata": {},
     "outputs": []
    },
    {
     "cell_type": "code",
     "collapsed": false,
     "input": [
      "sx, sy, sz = qubit_integrate(w, theta, gamma1, gamma2, psi0, tlist)"
     ],
     "language": "python",
     "metadata": {},
     "outputs": []
    },
    {
     "cell_type": "code",
     "collapsed": false,
     "input": [
      "sphere=Bloch()\n",
      "sphere.add_points([sx,sy,sz], meth='l')\n",
      "sphere.vector_color = ['r']\n",
      "sphere.add_vectors([np.sin(theta), 0, np.cos(theta)])\n",
      "sphere.show()"
     ],
     "language": "python",
     "metadata": {},
     "outputs": []
    },
    {
     "cell_type": "heading",
     "level": 2,
     "metadata": {},
     "source": [
      "Versions"
     ]
    },
    {
     "cell_type": "code",
     "collapsed": false,
     "input": [
      "from qutip.ipynbtools import version_table\n",
      "\n",
      "version_table()"
     ],
     "language": "python",
     "metadata": {},
     "outputs": []
    }
   ],
   "metadata": {}
  }
 ]
}